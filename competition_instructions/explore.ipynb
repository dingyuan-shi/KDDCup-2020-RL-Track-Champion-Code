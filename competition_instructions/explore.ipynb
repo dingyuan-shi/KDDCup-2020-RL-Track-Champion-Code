{
 "cells": [
  {
   "cell_type": "code",
   "execution_count": 1,
   "metadata": {
    "ExecuteTime": {
     "end_time": "2020-05-19T03:14:53.243107Z",
     "start_time": "2020-05-19T03:14:51.486925Z"
    }
   },
   "outputs": [],
   "source": [
    "from __future__ import print_function\n",
    "from IPython.display import display, clear_output\n",
    "from datetime import datetime, timedelta\n",
    "from itertools import product\n",
    "from pandas.plotting import register_matplotlib_converters\n",
    "\n",
    "import numpy as np\n",
    "import matplotlib.pyplot as plt\n",
    "import pandas as pd\n",
    "import random\n",
    "import tensorflow as tf\n",
    "\n",
    "\n",
    "pd.options.display.max_columns = None\n",
    "register_matplotlib_converters()\n",
    "\n",
    "\n",
    "%matplotlib inline"
   ]
  },
  {
   "cell_type": "code",
   "execution_count": 2,
   "metadata": {
    "ExecuteTime": {
     "end_time": "2020-05-19T03:14:55.028176Z",
     "start_time": "2020-05-19T03:14:53.244526Z"
    }
   },
   "outputs": [
    {
     "name": "stdout",
     "output_type": "stream",
     "text": [
      "Looking in indexes: https://pypi.org/simple, https://pypi.lyft.net/pypi/\n",
      "Requirement already satisfied: h3 in /code/venvs/venv/lib/python3.6/site-packages (3.4.3)\n",
      "Note: you may need to restart the kernel to use updated packages.\n"
     ]
    }
   ],
   "source": [
    "%pip install h3\n",
    "\n",
    "# May need to restart kernel if installed for the first time\n",
    "from h3 import h3\n",
    "\n",
    "bounding_box = ([30.727818,104.043333],[30.726490,104.129076],[30.655191,104.129591],[30.652828,104.042102])\n",
    "for lat, lng in bounding_box:\n",
    "    h3_address = h3.geo_to_h3(lat, lng, 8)\n",
    "    hex_center_coordinates = h3.h3_to_geo(h3_address) # array of [lat, lng]\n",
    "    hex_boundary = h3.h3_to_geo_boundary(h3_address) # array of arrays of [lat, lng]"
   ]
  },
  {
   "cell_type": "code",
   "execution_count": 3,
   "metadata": {
    "ExecuteTime": {
     "end_time": "2020-05-19T03:14:55.032259Z",
     "start_time": "2020-05-19T03:14:55.029834Z"
    }
   },
   "outputs": [],
   "source": [
    "bounding_box = ([30.727818,104.043333],[30.726490,104.129076],[30.655191,104.129591],[30.652828,104.042102])"
   ]
  },
  {
   "cell_type": "code",
   "execution_count": 4,
   "metadata": {
    "ExecuteTime": {
     "end_time": "2020-05-19T03:14:55.090205Z",
     "start_time": "2020-05-19T03:14:55.033480Z"
    }
   },
   "outputs": [],
   "source": [
    "import csv\n",
    "\n",
    "coords = []\n",
    "ids = []\n",
    "\n",
    "lats = 0\n",
    "with open('data/hexagon_grid_table.csv', 'r') as csvfile:\n",
    "    for row in csv.reader(csvfile):\n",
    "        if len(row) != 13:\n",
    "            continue\n",
    "        ids.append(row[0])        \n",
    "        lng = sum([float(row[i]) for i in range(1, 13, 2)]) / 6\n",
    "        lat = sum([float(row[i]) for i in range(2, 13, 2)]) / 6\n",
    "        coords.append((lat, lng))\n",
    "        lats += lat\n"
   ]
  },
  {
   "cell_type": "code",
   "execution_count": 5,
   "metadata": {
    "ExecuteTime": {
     "end_time": "2020-05-19T03:14:55.130540Z",
     "start_time": "2020-05-19T03:14:55.091271Z"
    }
   },
   "outputs": [
    {
     "name": "stdout",
     "output_type": "stream",
     "text": [
      "5973d1e3fdf1f878 5973d1e3fdf1f878\n",
      "27471aff3df268a1 27471aff3df268a1\n",
      "15948343c6223064 15948343c6223064\n",
      "386c78bc3c226d88 (30.65924666666667, 104.12614)\n",
      "926d27c14e84f5d0 (30.73054666666667, 104.04442)\n",
      "111297464a0c9cc8 (30.725296666666665, 104.13031000000001)\n"
     ]
    }
   ],
   "source": [
    "from scipy.spatial import KDTree\n",
    "\n",
    "tree = KDTree(coords)\n",
    "_, i = tree.query((30.71, 104.50))\n",
    "print('5973d1e3fdf1f878', ids[i])\n",
    "_, i = tree.query((30.40, 103.99))\n",
    "print('27471aff3df268a1', ids[i])\n",
    "_, i = tree.query((30.37, 104.52))\n",
    "print('15948343c6223064', ids[i])\n",
    "\n",
    "\n",
    "_, i = tree.query((30.655191,104.129591))\n",
    "print(ids[i], coords[i])\n",
    "_, i = tree.query((30.727818,104.043333))\n",
    "print(ids[i], coords[i])\n",
    "_, i = tree.query((30.726490,104.129076))\n",
    "print(ids[i], coords[i])"
   ]
  },
  {
   "cell_type": "code",
   "execution_count": 6,
   "metadata": {
    "ExecuteTime": {
     "end_time": "2020-05-19T03:15:29.896385Z",
     "start_time": "2020-05-19T03:14:55.131615Z"
    }
   },
   "outputs": [
    {
     "data": {
      "text/plain": [
       "[0.03493870431607338,\n",
       " 0.03866776293519174,\n",
       " 0.041760728528424544,\n",
       " 0.05007157148698522,\n",
       " 0.059208628863229744,\n",
       " 0.07455933064560377,\n",
       " 0.08571890195014424,\n",
       " 0.09848048263719175,\n",
       " 0.11230701971967454,\n",
       " 0.12717324794320947]"
      ]
     },
     "execution_count": 6,
     "metadata": {},
     "output_type": "execute_result"
    }
   ],
   "source": [
    "cancel_rates = [0] * 10\n",
    "total_rows = 0\n",
    "for date in range(1,31):\n",
    "    with open(f'data/total_order_cancellation_probability/order_201611{date:02d}_cancel_prob', 'r') as csvfile:\n",
    "        for row in csv.reader(csvfile):\n",
    "            assert len(row) == 11\n",
    "            for i in range(1, len(row)):\n",
    "                cancel_rates[i - 1] += float(row[i])\n",
    "            total_rows += 1\n",
    "\n",
    "y = [r / total_rows for r in cancel_rates]            \n",
    "y          "
   ]
  },
  {
   "cell_type": "code",
   "execution_count": 7,
   "metadata": {
    "ExecuteTime": {
     "end_time": "2020-05-19T03:15:30.028094Z",
     "start_time": "2020-05-19T03:15:29.897871Z"
    }
   },
   "outputs": [
    {
     "name": "stdout",
     "output_type": "stream",
     "text": [
      "fit [ 5.04970371e-02  6.39626539e-04 -3.83965901e+02 -1.30398096e-02]\n"
     ]
    },
    {
     "data": {
      "text/plain": [
       "[<matplotlib.lines.Line2D at 0x7f4151e2dda0>]"
      ]
     },
     "execution_count": 7,
     "metadata": {},
     "output_type": "execute_result"
    },
    {
     "data": {
      "image/png": "[encoded data removed]",
      "text/plain": [
       "<Figure size 432x288 with 1 Axes>"
      ]
     },
     "metadata": {
      "needs_background": "light"
     },
     "output_type": "display_data"
    }
   ],
   "source": [
    "import scipy\n",
    "import itertools\n",
    "\n",
    "x = list(range(200, 2001, 200))\n",
    "y = [r / total_rows for r in cancel_rates]\n",
    "fit, _ = scipy.optimize.curve_fit(lambda t,a,b,c,d: a*np.exp(b*(t+c))+d,  x,  y,  p0=(0.1, 0.01, 0, -0.02))\n",
    "print('fit', fit)\n",
    "plt.plot(x, y, 'x')\n",
    "#print(func(200, fit[0], fit[1]))\n",
    "x_extended = list(range(0, 2000, 200))\n",
    "plt.plot(x_extended, [fit[0] * np.exp(fit[1] * (a + fit[2])) + fit[3] for a in x_extended], '+')\n",
    "         "
   ]
  },
  {
   "cell_type": "code",
   "execution_count": 8,
   "metadata": {
    "ExecuteTime": {
     "end_time": "2020-05-19T03:15:30.037654Z",
     "start_time": "2020-05-19T03:15:30.029578Z"
    }
   },
   "outputs": [
    {
     "name": "stdout",
     "output_type": "stream",
     "text": [
      "['0', '8bc6f140185f6d4d', '8bc6f140185f6d4d', '1.0']\n"
     ]
    }
   ],
   "source": [
    "with open('data/idle_transition_probability', 'r') as csvfile:\n",
    "    for row in csv.reader(csvfile):\n",
    "        print(row)\n",
    "        break"
   ]
  },
  {
   "cell_type": "code",
   "execution_count": 9,
   "metadata": {
    "ExecuteTime": {
     "end_time": "2020-05-19T03:15:30.041349Z",
     "start_time": "2020-05-19T03:15:30.038766Z"
    }
   },
   "outputs": [
    {
     "data": {
      "text/plain": [
       "23"
      ]
     },
     "execution_count": 9,
     "metadata": {},
     "output_type": "execute_result"
    }
   ],
   "source": [
    "import time\n",
    "\n",
    "time.gmtime(148865000).tm_hour"
   ]
  },
  {
   "cell_type": "code",
   "execution_count": 148,
   "metadata": {
    "ExecuteTime": {
     "end_time": "2020-05-19T06:05:26.102985Z",
     "start_time": "2020-05-19T06:05:26.099404Z"
    }
   },
   "outputs": [
    {
     "data": {
      "text/plain": [
       "'dql=False, alpha=0.0584, gamma=0.996014, idle_reward=-0.009'"
      ]
     },
     "execution_count": 148,
     "metadata": {},
     "output_type": "execute_result"
    }
   ],
   "source": [
    "# dql: {true, false}\n",
    "dql = random.random() < 0.5\n",
    "# alpha: [0.0001, 0.1] (log)\n",
    "alpha = 10 ** -(3 * random.random() + 1)\n",
    "# gamma: [0.99, 0.99999] (log)\n",
    "gamma = 1 - 10 ** -(3 * random.random() + 2)\n",
    "# idle reward: [-1e-2, 0] (linear)\n",
    "idle_reward = -1e-2 * random.random()\n",
    "\n",
    "f'dql={dql}, alpha={alpha:.4f}, gamma={gamma:.6f}, idle_reward={idle_reward:.3f}'"
   ]
  },
  {
   "cell_type": "code",
   "execution_count": null,
   "metadata": {},
   "outputs": [],
   "source": []
  }
 ],
 "metadata": {
  "kernelspec": {
   "display_name": "Python 3",
   "language": "python",
   "name": "python3"
  },
  "language_info": {
   "codemirror_mode": {
    "name": "ipython",
    "version": 3
   },
   "file_extension": ".py",
   "mimetype": "text/x-python",
   "name": "python",
   "nbconvert_exporter": "python",
   "pygments_lexer": "ipython3",
   "version": "3.6.9"
  }
 },
 "nbformat": 4,
 "nbformat_minor": 4
}
